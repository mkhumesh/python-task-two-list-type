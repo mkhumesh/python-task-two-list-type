{
 "cells": [
  {
   "cell_type": "markdown",
   "id": "baba5df8-1d7e-41e5-bf06-ed47022cdb50",
   "metadata": {},
   "source": [
    "# LIST"
   ]
  },
  {
   "cell_type": "markdown",
   "id": "e5f77abd-4859-47c1-a2bc-579f8df17b1c",
   "metadata": {},
   "source": [
    "# 1) REMOVE\n"
   ]
  },
  {
   "cell_type": "code",
   "execution_count": 54,
   "id": "a5af26d7-2c2c-46ed-a313-d5d0ff5b5562",
   "metadata": {},
   "outputs": [],
   "source": [
    "t1 = [183, 143, 1432, 420, 786, 1235, 254]"
   ]
  },
  {
   "cell_type": "code",
   "execution_count": 78,
   "id": "b909b41b-f76e-48a5-ac6f-44009c838169",
   "metadata": {},
   "outputs": [],
   "source": [
    "t1.remove(420)"
   ]
  },
  {
   "cell_type": "code",
   "execution_count": 80,
   "id": "855ee245-0ca7-405f-bf68-bec575eac9c6",
   "metadata": {},
   "outputs": [
    {
     "name": "stdout",
     "output_type": "stream",
     "text": [
      "[183, 1432, 786, 1235, 254]\n"
     ]
    }
   ],
   "source": [
    "print(t1)"
   ]
  },
  {
   "cell_type": "code",
   "execution_count": null,
   "id": "85678e46-31da-490a-a14e-c576e5a85b31",
   "metadata": {},
   "outputs": [],
   "source": []
  },
  {
   "cell_type": "markdown",
   "id": "bdd49e63-c34d-4306-a651-54a613e7b531",
   "metadata": {},
   "source": [
    "# 2) MINIMUM"
   ]
  },
  {
   "cell_type": "code",
   "execution_count": 128,
   "id": "ed678bcc-f9a5-4640-8af9-f05f0be58608",
   "metadata": {},
   "outputs": [],
   "source": [
    "t2 = [183, 143, 1432, 420, 786, 1235, 254]"
   ]
  },
  {
   "cell_type": "code",
   "execution_count": 130,
   "id": "114f4bc6-d92f-4bb2-ba49-bb34669412f7",
   "metadata": {},
   "outputs": [
    {
     "data": {
      "text/plain": [
       "[183, 143, 1432, 420, 786, 1235, 254]"
      ]
     },
     "execution_count": 130,
     "metadata": {},
     "output_type": "execute_result"
    }
   ],
   "source": [
    "t2"
   ]
  },
  {
   "cell_type": "code",
   "execution_count": 139,
   "id": "61b47ec0-9de5-4503-878f-5c1c7f47320d",
   "metadata": {},
   "outputs": [
    {
     "name": "stdout",
     "output_type": "stream",
     "text": [
      "143\n"
     ]
    }
   ],
   "source": [
    "print(min(t2))"
   ]
  },
  {
   "cell_type": "code",
   "execution_count": null,
   "id": "e1b71891-0785-449e-89ca-d17f509f3c43",
   "metadata": {},
   "outputs": [],
   "source": []
  },
  {
   "cell_type": "markdown",
   "id": "a61c45ce-7966-42b1-9c2e-d62387f93d5c",
   "metadata": {},
   "source": [
    "# 3)  MAXIMUM"
   ]
  },
  {
   "cell_type": "code",
   "execution_count": 144,
   "id": "5c02a974-b7d7-447c-be6a-12d917b419b7",
   "metadata": {},
   "outputs": [],
   "source": [
    "t3 = [12.3, 2562, 2315, 2125, 12, 1, 0.12, 1542, 4646, 58974,]"
   ]
  },
  {
   "cell_type": "code",
   "execution_count": 146,
   "id": "2ca9165c-91ce-4ba2-b711-85e12098b6f0",
   "metadata": {},
   "outputs": [
    {
     "name": "stdout",
     "output_type": "stream",
     "text": [
      "58974\n"
     ]
    }
   ],
   "source": [
    "print(max(t3))"
   ]
  },
  {
   "cell_type": "code",
   "execution_count": null,
   "id": "8cf48d7d-922a-4867-adfd-926f28d66ff5",
   "metadata": {},
   "outputs": [],
   "source": []
  },
  {
   "cell_type": "markdown",
   "id": "2aa4f957-44a1-4de6-8c4d-246968cb9e38",
   "metadata": {},
   "source": [
    "# 4) APPEND"
   ]
  },
  {
   "cell_type": "code",
   "execution_count": 200,
   "id": "e3029042-8569-44ee-a3e5-76e55956c784",
   "metadata": {},
   "outputs": [],
   "source": [
    "A5 = [ 'I', 'LOVE', 'YOU']"
   ]
  },
  {
   "cell_type": "code",
   "execution_count": 204,
   "id": "8eb86170-5da9-48bc-9a7b-36d618e272aa",
   "metadata": {},
   "outputs": [
    {
     "data": {
      "text/plain": [
       "['I', 'LOVE', 'YOU']"
      ]
     },
     "execution_count": 204,
     "metadata": {},
     "output_type": "execute_result"
    }
   ],
   "source": [
    "A5"
   ]
  },
  {
   "cell_type": "code",
   "execution_count": 206,
   "id": "ed8b83fd-a552-441a-b13f-889fd516d379",
   "metadata": {},
   "outputs": [],
   "source": [
    "A5.append('TWO')"
   ]
  },
  {
   "cell_type": "code",
   "execution_count": 208,
   "id": "e35d3f68-1a68-44a6-9bc0-028b9cf6a61c",
   "metadata": {},
   "outputs": [
    {
     "name": "stdout",
     "output_type": "stream",
     "text": [
      "['I', 'LOVE', 'YOU', 'TWO']\n"
     ]
    }
   ],
   "source": [
    "print(A5)"
   ]
  },
  {
   "cell_type": "code",
   "execution_count": null,
   "id": "5f60ff94-ec9e-4a69-801c-52452c3619a1",
   "metadata": {},
   "outputs": [],
   "source": []
  },
  {
   "cell_type": "markdown",
   "id": "14a27852-140e-4a2d-a981-e9ff2440ead5",
   "metadata": {},
   "source": [
    "# 5) join"
   ]
  },
  {
   "cell_type": "code",
   "execution_count": 210,
   "id": "c16bb315-0663-444c-a39e-03750ec7841e",
   "metadata": {},
   "outputs": [
    {
     "name": "stdout",
     "output_type": "stream",
     "text": [
      "I LOVE YOU TWO\n"
     ]
    }
   ],
   "source": [
    "print(\" \".join(A5))"
   ]
  },
  {
   "cell_type": "markdown",
   "id": "3bde24cd-6f28-4bee-94e3-5feb35a16829",
   "metadata": {},
   "source": [
    "# 6) SORT"
   ]
  },
  {
   "cell_type": "code",
   "execution_count": 214,
   "id": "4cb55955-ed89-4760-bc76-103d030ba183",
   "metadata": {},
   "outputs": [],
   "source": [
    "A5.sort()"
   ]
  },
  {
   "cell_type": "code",
   "execution_count": 216,
   "id": "94aa73c2-af7e-407b-b1e4-400f9d0eac12",
   "metadata": {},
   "outputs": [
    {
     "name": "stdout",
     "output_type": "stream",
     "text": [
      "['I', 'LOVE', 'TWO', 'YOU']\n"
     ]
    }
   ],
   "source": [
    "print(A5)"
   ]
  },
  {
   "cell_type": "code",
   "execution_count": null,
   "id": "6eea13d0-a8bd-4785-a6de-24b151101d79",
   "metadata": {},
   "outputs": [],
   "source": []
  },
  {
   "cell_type": "markdown",
   "id": "1a1e9b9e-92f4-4169-81b5-4d39d9ff1f1d",
   "metadata": {},
   "source": [
    "# 7) CLEAR"
   ]
  },
  {
   "cell_type": "code",
   "execution_count": 220,
   "id": "9bef69af-76d3-42a8-ba24-d03c4fed0b2b",
   "metadata": {},
   "outputs": [],
   "source": [
    "A5.clear()"
   ]
  },
  {
   "cell_type": "code",
   "execution_count": 222,
   "id": "fcb5d8ec-e2db-45f0-af96-389df4ee17b7",
   "metadata": {},
   "outputs": [
    {
     "name": "stdout",
     "output_type": "stream",
     "text": [
      "[]\n"
     ]
    }
   ],
   "source": [
    "print(A5)"
   ]
  },
  {
   "cell_type": "code",
   "execution_count": null,
   "id": "7ffe998a-06d3-4283-abae-9bae04b5ed77",
   "metadata": {},
   "outputs": [],
   "source": []
  },
  {
   "cell_type": "markdown",
   "id": "c9576c42-7c81-4550-a1c6-f157ebe5732a",
   "metadata": {},
   "source": [
    "# 8) copy"
   ]
  },
  {
   "cell_type": "code",
   "execution_count": 227,
   "id": "bf3bc1af-964b-4aad-bfc6-49400f491495",
   "metadata": {},
   "outputs": [],
   "source": [
    "S1 = [ 'new', 'one', 'car','is', 'good']"
   ]
  },
  {
   "cell_type": "code",
   "execution_count": 229,
   "id": "a8ea6c7e-b393-4655-a3d4-2a2585b643ca",
   "metadata": {},
   "outputs": [
    {
     "data": {
      "text/plain": [
       "['new', 'one', 'car', 'is', 'good']"
      ]
     },
     "execution_count": 229,
     "metadata": {},
     "output_type": "execute_result"
    }
   ],
   "source": [
    "S1"
   ]
  },
  {
   "cell_type": "code",
   "execution_count": 231,
   "id": "fc26aeb8-e83c-4966-89ca-1a87504247c4",
   "metadata": {},
   "outputs": [
    {
     "name": "stdout",
     "output_type": "stream",
     "text": [
      "['new', 'one', 'car', 'is', 'good']\n"
     ]
    }
   ],
   "source": [
    "print(S1.copy())"
   ]
  },
  {
   "cell_type": "code",
   "execution_count": null,
   "id": "9ab15e9a-3eaa-40ca-a1d1-0d6cacb2b1d0",
   "metadata": {},
   "outputs": [],
   "source": []
  },
  {
   "cell_type": "markdown",
   "id": "738da877-7a29-4e18-8271-8539ea1329b3",
   "metadata": {},
   "source": [
    "# 9) extend"
   ]
  },
  {
   "cell_type": "code",
   "execution_count": 234,
   "id": "cd179a8a-e113-4dd5-af48-67e5fde0aa2c",
   "metadata": {},
   "outputs": [],
   "source": [
    "S2 = [ 'sgjs', 'dshc','scds', 'sfds','scds']"
   ]
  },
  {
   "cell_type": "code",
   "execution_count": 238,
   "id": "25937743-e2fb-4eea-a08b-6f6582435e29",
   "metadata": {},
   "outputs": [
    {
     "data": {
      "text/plain": [
       "['sgjs', 'dshc', 'scds', 'sfds', 'scds']"
      ]
     },
     "execution_count": 238,
     "metadata": {},
     "output_type": "execute_result"
    }
   ],
   "source": [
    "S2"
   ]
  },
  {
   "cell_type": "code",
   "execution_count": 250,
   "id": "f3cba160-149d-436f-a432-5bbf67340db3",
   "metadata": {},
   "outputs": [],
   "source": [
    "S3 = [1,1,2,1,2,2,]"
   ]
  },
  {
   "cell_type": "code",
   "execution_count": 256,
   "id": "ebe732e4-2625-4d49-b66f-e5657091d941",
   "metadata": {},
   "outputs": [
    {
     "data": {
      "text/plain": [
       "[1, 1, 2, 1, 2, 2]"
      ]
     },
     "execution_count": 256,
     "metadata": {},
     "output_type": "execute_result"
    }
   ],
   "source": [
    "S3"
   ]
  },
  {
   "cell_type": "code",
   "execution_count": 263,
   "id": "1b46034f-b4a7-45e9-8e71-db86f049825a",
   "metadata": {},
   "outputs": [],
   "source": [
    "S3.extend(S2)"
   ]
  },
  {
   "cell_type": "code",
   "execution_count": 260,
   "id": "b538864f-09a9-4680-9080-352337275815",
   "metadata": {},
   "outputs": [
    {
     "name": "stdout",
     "output_type": "stream",
     "text": [
      "[1, 1, 2, 1, 2, 2, 'sgjs', 'dshc', 'scds', 'sfds', 'scds']\n"
     ]
    }
   ],
   "source": [
    "print(S3)"
   ]
  },
  {
   "cell_type": "code",
   "execution_count": null,
   "id": "817452d0-aa8f-494e-9dae-823e537c68fa",
   "metadata": {},
   "outputs": [],
   "source": []
  },
  {
   "cell_type": "markdown",
   "id": "7a51de1a-3776-4537-b74b-fca200ce8eea",
   "metadata": {},
   "source": [
    "# 10) insert"
   ]
  },
  {
   "cell_type": "code",
   "execution_count": 266,
   "id": "5f0521fb-a409-4527-8985-e6685378e464",
   "metadata": {},
   "outputs": [],
   "source": [
    "Z1 = [ 'khumesh', 'is', 'good']"
   ]
  },
  {
   "cell_type": "code",
   "execution_count": 268,
   "id": "ea540edd-5a94-405b-8dc0-65f2de32abca",
   "metadata": {},
   "outputs": [
    {
     "data": {
      "text/plain": [
       "['khumesh', 'is', 'good']"
      ]
     },
     "execution_count": 268,
     "metadata": {},
     "output_type": "execute_result"
    }
   ],
   "source": [
    "Z1"
   ]
  },
  {
   "cell_type": "code",
   "execution_count": 272,
   "id": "89092388-b6f8-40e1-a8f5-85c2c5f2cd7f",
   "metadata": {},
   "outputs": [],
   "source": [
    "Z1.insert(3,'person')"
   ]
  },
  {
   "cell_type": "code",
   "execution_count": 274,
   "id": "619e654b-a5a5-4fd1-ae78-b98265e7a1f7",
   "metadata": {},
   "outputs": [
    {
     "name": "stdout",
     "output_type": "stream",
     "text": [
      "['khumesh', 'is', 'good', 'person']\n"
     ]
    }
   ],
   "source": [
    "print(Z1)"
   ]
  },
  {
   "cell_type": "code",
   "execution_count": null,
   "id": "3a32cd3c-f966-4105-82b9-414cd24a33af",
   "metadata": {},
   "outputs": [],
   "source": []
  },
  {
   "cell_type": "markdown",
   "id": "a72968ac-7454-4213-a5cf-2b0b46c7b1b1",
   "metadata": {},
   "source": [
    "# 11) index"
   ]
  },
  {
   "cell_type": "code",
   "execution_count": 282,
   "id": "299799ad-30cb-44b6-a7e4-c30203a492aa",
   "metadata": {},
   "outputs": [
    {
     "name": "stdout",
     "output_type": "stream",
     "text": [
      "2\n"
     ]
    }
   ],
   "source": [
    "print(Z1.index('good'))"
   ]
  },
  {
   "cell_type": "code",
   "execution_count": null,
   "id": "4754f66f-6d0d-475d-b225-1fe6d930169b",
   "metadata": {},
   "outputs": [],
   "source": []
  },
  {
   "cell_type": "markdown",
   "id": "e4bbeae0-247f-47fa-9d36-5b7eaecb70ef",
   "metadata": {},
   "source": [
    "# 12) sum"
   ]
  },
  {
   "cell_type": "code",
   "execution_count": 287,
   "id": "93beb51a-bf57-4548-a49f-e78da01000b3",
   "metadata": {},
   "outputs": [],
   "source": [
    "X1 = [111, 225, 4545, 47444, 445, 00,47564, 4646,402,5.5]"
   ]
  },
  {
   "cell_type": "code",
   "execution_count": 289,
   "id": "a8768d33-2211-416a-8a4e-f001db43bf2b",
   "metadata": {},
   "outputs": [
    {
     "data": {
      "text/plain": [
       "[111, 225, 4545, 47444, 445, 0, 47564, 4646, 402, 5.5]"
      ]
     },
     "execution_count": 289,
     "metadata": {},
     "output_type": "execute_result"
    }
   ],
   "source": [
    "X1"
   ]
  },
  {
   "cell_type": "code",
   "execution_count": 291,
   "id": "c100734f-c876-4a06-98cb-90df0ffd8d09",
   "metadata": {},
   "outputs": [
    {
     "data": {
      "text/plain": [
       "105387.5"
      ]
     },
     "execution_count": 291,
     "metadata": {},
     "output_type": "execute_result"
    }
   ],
   "source": [
    "sum(X1)"
   ]
  },
  {
   "cell_type": "code",
   "execution_count": null,
   "id": "08aed241-ce3c-40fb-a059-b701317430b5",
   "metadata": {},
   "outputs": [],
   "source": []
  },
  {
   "cell_type": "markdown",
   "id": "b174802d-022c-4589-a3b6-a164d4d5acf3",
   "metadata": {},
   "source": [
    "# 13) DELETE"
   ]
  },
  {
   "cell_type": "code",
   "execution_count": 294,
   "id": "f54b476c-b5dc-4a7d-a6e4-c819325b8e52",
   "metadata": {},
   "outputs": [
    {
     "data": {
      "text/plain": [
       "[111, 225, 4545, 47444, 445, 0, 47564, 4646, 402, 5.5]"
      ]
     },
     "execution_count": 294,
     "metadata": {},
     "output_type": "execute_result"
    }
   ],
   "source": [
    "X1"
   ]
  },
  {
   "cell_type": "code",
   "execution_count": 296,
   "id": "573bd120-715f-435d-88ab-65f3c6120fde",
   "metadata": {},
   "outputs": [],
   "source": [
    "del X1[3]"
   ]
  },
  {
   "cell_type": "code",
   "execution_count": 298,
   "id": "8fd23254-332d-477b-ab7a-38c3b8890fae",
   "metadata": {},
   "outputs": [
    {
     "name": "stdout",
     "output_type": "stream",
     "text": [
      "[111, 225, 4545, 445, 0, 47564, 4646, 402, 5.5]\n"
     ]
    }
   ],
   "source": [
    "print(X1)"
   ]
  },
  {
   "cell_type": "code",
   "execution_count": null,
   "id": "9a6657b8-f32d-4271-85f2-c762d91561f8",
   "metadata": {},
   "outputs": [],
   "source": []
  },
  {
   "cell_type": "markdown",
   "id": "928e8c74-65fd-48f5-8fb5-4b1aa405810b",
   "metadata": {},
   "source": [
    "# 14) BOOLEAN"
   ]
  },
  {
   "cell_type": "code",
   "execution_count": 303,
   "id": "89ebc9d2-8697-4a30-9412-e2a5f4509bc7",
   "metadata": {},
   "outputs": [
    {
     "data": {
      "text/plain": [
       "True"
      ]
     },
     "execution_count": 303,
     "metadata": {},
     "output_type": "execute_result"
    }
   ],
   "source": [
    "bool(143)"
   ]
  },
  {
   "cell_type": "code",
   "execution_count": 311,
   "id": "6f90da67-e532-4c95-954d-00d1873706cc",
   "metadata": {},
   "outputs": [
    {
     "data": {
      "text/plain": [
       "True"
      ]
     },
     "execution_count": 311,
     "metadata": {},
     "output_type": "execute_result"
    }
   ],
   "source": [
    "bool(786)"
   ]
  },
  {
   "cell_type": "code",
   "execution_count": 315,
   "id": "48f0e6e8-debe-41e9-b427-8b9e0734d6cc",
   "metadata": {},
   "outputs": [
    {
     "data": {
      "text/plain": [
       "True"
      ]
     },
     "execution_count": 315,
     "metadata": {},
     "output_type": "execute_result"
    }
   ],
   "source": [
    "bool(143) or bool(786)"
   ]
  },
  {
   "cell_type": "code",
   "execution_count": 319,
   "id": "03e93b29-69b1-4046-9c9c-d01005628c54",
   "metadata": {},
   "outputs": [
    {
     "data": {
      "text/plain": [
       "True"
      ]
     },
     "execution_count": 319,
     "metadata": {},
     "output_type": "execute_result"
    }
   ],
   "source": [
    "bool(786) and bool(786)"
   ]
  },
  {
   "cell_type": "code",
   "execution_count": 327,
   "id": "ff9db409-3e49-414c-885f-2337f03ebddb",
   "metadata": {},
   "outputs": [
    {
     "data": {
      "text/plain": [
       "True"
      ]
     },
     "execution_count": 327,
     "metadata": {},
     "output_type": "execute_result"
    }
   ],
   "source": [
    "bool(0)\n",
    "bool(1)"
   ]
  },
  {
   "cell_type": "code",
   "execution_count": 329,
   "id": "718beca7-0a34-4087-8588-2d551f7dc200",
   "metadata": {},
   "outputs": [
    {
     "data": {
      "text/plain": [
       "True"
      ]
     },
     "execution_count": 329,
     "metadata": {},
     "output_type": "execute_result"
    }
   ],
   "source": [
    "bool(1) or bool(0)"
   ]
  },
  {
   "cell_type": "code",
   "execution_count": 331,
   "id": "02435656-c444-433a-ad41-329520d7a556",
   "metadata": {},
   "outputs": [
    {
     "data": {
      "text/plain": [
       "False"
      ]
     },
     "execution_count": 331,
     "metadata": {},
     "output_type": "execute_result"
    }
   ],
   "source": [
    "bool(0) and bool(0)"
   ]
  },
  {
   "cell_type": "code",
   "execution_count": null,
   "id": "b6ccfe9c-f4d0-4b22-b138-6e8aa2b31a35",
   "metadata": {},
   "outputs": [],
   "source": []
  },
  {
   "cell_type": "markdown",
   "id": "b49bf9a9-2661-4993-acfe-4e0edd4c7405",
   "metadata": {},
   "source": [
    "# 15) slice"
   ]
  },
  {
   "cell_type": "code",
   "execution_count": 350,
   "id": "c2680e3b-ed09-42c2-9c77-6969f2f69c19",
   "metadata": {},
   "outputs": [],
   "source": [
    "b3 = [12, 3, 2562, 2315, 2125, 12, 1, 0,19, 1542, 4646, 58974,]"
   ]
  },
  {
   "cell_type": "code",
   "execution_count": 352,
   "id": "0d88d518-f443-4de2-88bd-a7333a15b0f8",
   "metadata": {},
   "outputs": [
    {
     "data": {
      "text/plain": [
       "[12, 3, 2562, 2315, 2125, 12, 1, 0, 19, 1542, 4646, 58974]"
      ]
     },
     "execution_count": 352,
     "metadata": {},
     "output_type": "execute_result"
    }
   ],
   "source": [
    "b3"
   ]
  },
  {
   "cell_type": "code",
   "execution_count": 362,
   "id": "51d265a8-223d-46ed-b06b-64d0f99cb5e3",
   "metadata": {},
   "outputs": [
    {
     "data": {
      "text/plain": [
       "[2562]"
      ]
     },
     "execution_count": 362,
     "metadata": {},
     "output_type": "execute_result"
    }
   ],
   "source": [
    "b3[2:5:12]"
   ]
  },
  {
   "cell_type": "code",
   "execution_count": 364,
   "id": "6adcd246-461b-4676-bc59-1e030e311ef7",
   "metadata": {},
   "outputs": [
    {
     "data": {
      "text/plain": [
       "[3, 2315, 12, 0]"
      ]
     },
     "execution_count": 364,
     "metadata": {},
     "output_type": "execute_result"
    }
   ],
   "source": [
    "b3[1:9:2]"
   ]
  },
  {
   "cell_type": "code",
   "execution_count": null,
   "id": "14041e0e-e0e9-4e4d-83e4-c54fbf604e7f",
   "metadata": {},
   "outputs": [],
   "source": []
  }
 ],
 "metadata": {
  "kernelspec": {
   "display_name": "Python 3 (ipykernel)",
   "language": "python",
   "name": "python3"
  },
  "language_info": {
   "codemirror_mode": {
    "name": "ipython",
    "version": 3
   },
   "file_extension": ".py",
   "mimetype": "text/x-python",
   "name": "python",
   "nbconvert_exporter": "python",
   "pygments_lexer": "ipython3",
   "version": "3.12.4"
  }
 },
 "nbformat": 4,
 "nbformat_minor": 5
}
